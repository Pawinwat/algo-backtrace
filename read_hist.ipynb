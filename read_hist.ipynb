{
  "cells": [
    {
      "cell_type": "code",
      "source": [
        "from google.colab import drive\n",
        "drive.mount('/content/drive')"
      ],
      "metadata": {
        "colab": {
          "base_uri": "https://localhost:8080/",
          "height": 317
        },
        "id": "fQ_GLRcyAStr",
        "outputId": "09106f6f-1087-4a87-c40d-027705760a73"
      },
      "execution_count": 1,
      "outputs": [
        {
          "output_type": "error",
          "ename": "ValueError",
          "evalue": "mount failed",
          "traceback": [
            "\u001b[0;31m---------------------------------------------------------------------------\u001b[0m",
            "\u001b[0;31mValueError\u001b[0m                                Traceback (most recent call last)",
            "\u001b[0;32m<ipython-input-1-d5df0069828e>\u001b[0m in \u001b[0;36m<cell line: 0>\u001b[0;34m()\u001b[0m\n\u001b[1;32m      1\u001b[0m \u001b[0;32mfrom\u001b[0m \u001b[0mgoogle\u001b[0m\u001b[0;34m.\u001b[0m\u001b[0mcolab\u001b[0m \u001b[0;32mimport\u001b[0m \u001b[0mdrive\u001b[0m\u001b[0;34m\u001b[0m\u001b[0;34m\u001b[0m\u001b[0m\n\u001b[0;32m----> 2\u001b[0;31m \u001b[0mdrive\u001b[0m\u001b[0;34m.\u001b[0m\u001b[0mmount\u001b[0m\u001b[0;34m(\u001b[0m\u001b[0;34m'/content/drive'\u001b[0m\u001b[0;34m)\u001b[0m\u001b[0;34m\u001b[0m\u001b[0;34m\u001b[0m\u001b[0m\n\u001b[0m",
            "\u001b[0;32m/usr/local/lib/python3.11/dist-packages/google/colab/drive.py\u001b[0m in \u001b[0;36mmount\u001b[0;34m(mountpoint, force_remount, timeout_ms, readonly)\u001b[0m\n\u001b[1;32m     98\u001b[0m \u001b[0;32mdef\u001b[0m \u001b[0mmount\u001b[0m\u001b[0;34m(\u001b[0m\u001b[0mmountpoint\u001b[0m\u001b[0;34m,\u001b[0m \u001b[0mforce_remount\u001b[0m\u001b[0;34m=\u001b[0m\u001b[0;32mFalse\u001b[0m\u001b[0;34m,\u001b[0m \u001b[0mtimeout_ms\u001b[0m\u001b[0;34m=\u001b[0m\u001b[0;36m120000\u001b[0m\u001b[0;34m,\u001b[0m \u001b[0mreadonly\u001b[0m\u001b[0;34m=\u001b[0m\u001b[0;32mFalse\u001b[0m\u001b[0;34m)\u001b[0m\u001b[0;34m:\u001b[0m\u001b[0;34m\u001b[0m\u001b[0;34m\u001b[0m\u001b[0m\n\u001b[1;32m     99\u001b[0m   \u001b[0;34m\"\"\"Mount your Google Drive at the specified mountpoint path.\"\"\"\u001b[0m\u001b[0;34m\u001b[0m\u001b[0;34m\u001b[0m\u001b[0m\n\u001b[0;32m--> 100\u001b[0;31m   return _mount(\n\u001b[0m\u001b[1;32m    101\u001b[0m       \u001b[0mmountpoint\u001b[0m\u001b[0;34m,\u001b[0m\u001b[0;34m\u001b[0m\u001b[0;34m\u001b[0m\u001b[0m\n\u001b[1;32m    102\u001b[0m       \u001b[0mforce_remount\u001b[0m\u001b[0;34m=\u001b[0m\u001b[0mforce_remount\u001b[0m\u001b[0;34m,\u001b[0m\u001b[0;34m\u001b[0m\u001b[0;34m\u001b[0m\u001b[0m\n",
            "\u001b[0;32m/usr/local/lib/python3.11/dist-packages/google/colab/drive.py\u001b[0m in \u001b[0;36m_mount\u001b[0;34m(mountpoint, force_remount, timeout_ms, ephemeral, readonly)\u001b[0m\n\u001b[1;32m    277\u001b[0m             \u001b[0;34m'https://research.google.com/colaboratory/faq.html#drive-timeout'\u001b[0m\u001b[0;34m\u001b[0m\u001b[0;34m\u001b[0m\u001b[0m\n\u001b[1;32m    278\u001b[0m         )\n\u001b[0;32m--> 279\u001b[0;31m       \u001b[0;32mraise\u001b[0m \u001b[0mValueError\u001b[0m\u001b[0;34m(\u001b[0m\u001b[0;34m'mount failed'\u001b[0m \u001b[0;34m+\u001b[0m \u001b[0mextra_reason\u001b[0m\u001b[0;34m)\u001b[0m\u001b[0;34m\u001b[0m\u001b[0;34m\u001b[0m\u001b[0m\n\u001b[0m\u001b[1;32m    280\u001b[0m     \u001b[0;32melif\u001b[0m \u001b[0mcase\u001b[0m \u001b[0;34m==\u001b[0m \u001b[0;36m4\u001b[0m\u001b[0;34m:\u001b[0m\u001b[0;34m\u001b[0m\u001b[0;34m\u001b[0m\u001b[0m\n\u001b[1;32m    281\u001b[0m       \u001b[0;31m# Terminate the DriveFS binary before killing bash.\u001b[0m\u001b[0;34m\u001b[0m\u001b[0;34m\u001b[0m\u001b[0m\n",
            "\u001b[0;31mValueError\u001b[0m: mount failed"
          ]
        }
      ]
    },
    {
      "cell_type": "code",
      "source": [
        "!ls /content/drive/My\\ Drive/"
      ],
      "metadata": {
        "id": "J-wO-rgsBt46"
      },
      "execution_count": null,
      "outputs": []
    },
    {
      "cell_type": "code",
      "source": [
        "!pip install ta"
      ],
      "metadata": {
        "id": "rpQ1LJPTAT-7"
      },
      "execution_count": null,
      "outputs": []
    },
    {
      "cell_type": "code",
      "execution_count": null,
      "metadata": {
        "id": "FVWuQHQD_177"
      },
      "outputs": [],
      "source": [
        "\n",
        "import pandas as pd\n",
        "import requests\n",
        "import plotly.express as px\n",
        "import plotly.graph_objects as go\n",
        "import ta\n",
        "from ta import add_all_ta_features\n",
        "from ta.utils import dropna\n",
        "template = \"plotly_dark\""
      ]
    },
    {
      "cell_type": "code",
      "execution_count": null,
      "metadata": {
        "id": "ijeY6kbC_178"
      },
      "outputs": [],
      "source": [
        "# Manual Download https://forexsb.com/historical-forex-data -> no volume"
      ]
    },
    {
      "cell_type": "code",
      "source": [
        "import hashlib\n",
        "import random\n",
        "\n",
        "def color_from_time(time_value):\n",
        "    \"\"\"\n",
        "    Generate a consistent random HEX color string based on a datetime or string.\n",
        "    \"\"\"\n",
        "    if pd.isna(time_value):\n",
        "        return \"#cccccc\"  # default gray for NaT\n",
        "\n",
        "    # Convert datetime to string and hash it\n",
        "    time_str = str(time_value)\n",
        "    seed = int(hashlib.md5(time_str.encode()).hexdigest(), 16)\n",
        "\n",
        "    # Seed RNG and generate color\n",
        "    random.seed(seed)\n",
        "    return '#{:02X}{:02X}{:02X}'.format(\n",
        "        random.randint(0, 255),\n",
        "        random.randint(0, 255),\n",
        "        random.randint(0, 255)\n",
        "    )"
      ],
      "metadata": {
        "id": "QycNqqXiiszI"
      },
      "execution_count": null,
      "outputs": []
    },
    {
      "cell_type": "code",
      "execution_count": null,
      "metadata": {
        "id": "ftj0qPnQ_179"
      },
      "outputs": [],
      "source": [
        "profit_color_continuous_scale =[\"red\",\"orange\" ,\"White\",\"lightgreen\",\"green\"]"
      ]
    },
    {
      "cell_type": "code",
      "execution_count": null,
      "metadata": {
        "id": "UaADM2eq_179"
      },
      "outputs": [],
      "source": [
        "## Historical Order Data\n",
        "raw_df = pd.read_excel('/content/drive/MyDrive/algo/input/ReportHistory-32012857.xlsx',skiprows=6)\n",
        "raw_df = raw_df[~raw_df['Commission'].isnull()]\n",
        "time_config = {\n",
        "     \"format\":'%Y.%m.%d %H:%M:%S',\n",
        "     \"errors\":'coerce'\n",
        "}\n",
        "# raw_df['Time.1'] = pd.to_datetime(raw_df['Time.1'], format='%Y.%m.%d %H:%M:%S', errors='coerce')\n",
        "raw_df[\"Open Time\"] = pd.to_datetime(raw_df[\"Time\"],**time_config)\n",
        "raw_df[\"Close Time\"] = pd.to_datetime(raw_df[\"Time.1\"],**time_config)\n",
        "raw_df = raw_df.dropna(subset=['Time.1'])\n",
        "raw_df[\"Volume\"] = pd.to_numeric(raw_df[\"Volume\"], errors=\"coerce\")\n",
        "\n",
        "\n",
        "raw_df = raw_df[raw_df['Open Time']>='2025-04-13']\n",
        "raw_df = raw_df[raw_df['Close Time']<'2025-04-17']\n",
        "\n",
        "# Step 2: Convert to UTC\n",
        "# raw_df[\"Open Time\"] = raw_df[\"Open Time\"].dt.tz_localize(\"Asia/Bangkok\")\n",
        "# raw_df[\"Close Time\"] = raw_df[\"Close Time\"].dt.tz_localize(\"Asia/Bangkok\")\n",
        "# raw_df[\"Open Time\"] = raw_df[\"Open Time\"].dt.tz_convert(\"UTC\")\n",
        "# raw_df[\"Close Time\"] = raw_df[\"Close Time\"].dt.tz_convert(\"UTC\")\n",
        "raw_df[\"Open Time\"] = raw_df[\"Open Time\"] - pd.Timedelta(hours=3)\n",
        "raw_df[\"Close Time\"] = raw_df[\"Close Time\"] - pd.Timedelta(hours=3)\n",
        "\n",
        "raw_df[\"Open Time (15m)\"] = raw_df[\"Open Time\"].dt.floor(\"15min\")\n",
        "order_counts = raw_df.groupby(\"Open Time (15m)\").size().reset_index(name=\"Orders in 15m\")\n",
        "raw_df = raw_df.merge(order_counts, on=\"Open Time (15m)\", how=\"left\")\n",
        "# Drop rows where Volume is NaN (invalid)\n",
        "raw_df = raw_df[raw_df[\"Volume\"].notna()]\n",
        "raw_df = raw_df.rename(columns={\n",
        "    \"Price\": \"Open Price\",\n",
        "    \"Price.1\": \"Close Price\",\n",
        "    \"Profit\": \"Profit USD\"\n",
        "})\n",
        "dtype_mapping = {\n",
        "\n",
        "    \"Profit USD\":'int64'\n",
        "}\n",
        "raw_df = raw_df.astype(dtype_mapping)\n",
        "# Drop irrelevant or unnamed columns\n",
        "df = raw_df[[\"Open Time (15m)\",\"Orders in 15m\",\"Open Time\", \"Close Time\", \"Symbol\", \"Type\", \"Volume\", \"Open Price\", \"Close Price\", \"T / P\", \"Profit USD\"]]\n"
      ]
    },
    {
      "cell_type": "code",
      "execution_count": null,
      "metadata": {
        "id": "WQxVgb_B_179"
      },
      "outputs": [],
      "source": [
        "df"
      ]
    },
    {
      "cell_type": "code",
      "execution_count": null,
      "metadata": {
        "id": "X0f5w-gZ_179"
      },
      "outputs": [],
      "source": [
        "df.info()"
      ]
    },
    {
      "cell_type": "code",
      "execution_count": null,
      "metadata": {
        "id": "lxVWO2s__179"
      },
      "outputs": [],
      "source": [
        "import plotly.express as px\n"
      ]
    },
    {
      "cell_type": "code",
      "execution_count": null,
      "metadata": {
        "id": "w2I_RTqx_17-"
      },
      "outputs": [],
      "source": [
        "\n",
        "# Example DataFrame cleanup if not already done\n",
        "df[\"Volume\"] = pd.to_numeric(df[\"Volume\"], errors=\"coerce\")\n",
        "df = df[df[\"Volume\"].notna()]\n",
        "\n",
        "# Melt the dataframe to show both Open and Close price as individual points\n",
        "order_df = df\n",
        "# .melt(\n",
        "#     id_vars=[\"Open Time (15m)\",\"Open Time\", \"Close Time\", \"Type\", \"Profit USD\"],\n",
        "#     value_vars=[\"Open Price\", \"Close Price\"],\n",
        "#     var_name=\"Price Type\",\n",
        "#     value_name=\"Price\"\n",
        "# )\n",
        "\n",
        "# Use Open Time for both points to align them visually\n",
        "# df_melted[\"Time\"] = df_melted.apply(\n",
        "#     lambda row: row[\"Open Time\"] if row[\"Price Type\"] == \"Open Price\" else row[\"Close Time\"],\n",
        "#     axis=1\n",
        "# )\n",
        "\n",
        "# Color profit: positive = green, negative = red\n",
        "order_df[\"Profit Color\"] = order_df[\"Profit USD\"].apply(\n",
        "    lambda x: \"green\" if x >= 0 else \"red\")\n",
        "order_df[\"Profit Size\"] = order_df[\"Profit USD\"].apply(\n",
        "    lambda x: abs(x))\n",
        "\n",
        "fig = px.scatter(\n",
        "    order_df,\n",
        "    x=\"Open Time\",\n",
        "    y=\"Open Price\",\n",
        "    color=\"Profit USD\",\n",
        "    # color_continuous_scale='YlGn',\n",
        "    color_continuous_midpoint=0,  # This centers the color scale at 0\n",
        "    range_color=[-300, 300],           # Set min/max of color range\n",
        "    # size=\"Profit Size\",\n",
        "    color_continuous_scale=profit_color_continuous_scale,\n",
        "    symbol=\"Type\",\n",
        "    facet_col=\"Type\",\n",
        "    title=\"Entry and Exit Prices by Trade\",\n",
        "    hover_data=[\"Profit USD\", \"Type\"]\n",
        ")\n",
        "\n",
        "fig.update_layout(height=500, xaxis_title=\"Time\", yaxis_title=\"Price\",template=template)\n",
        "fig.show()"
      ]
    },
    {
      "cell_type": "code",
      "execution_count": null,
      "metadata": {
        "id": "F-D4V57b_17-"
      },
      "outputs": [],
      "source": [
        "order_df"
      ]
    },
    {
      "cell_type": "code",
      "source": [
        "order_count_by_close = order_df.groupby(\"Close Time\").size().reset_index(name=\"Order Count\")\n",
        "order_count_by_close.sort_values('Order Count')"
      ],
      "metadata": {
        "id": "_eU2DyjZehvU"
      },
      "execution_count": null,
      "outputs": []
    },
    {
      "cell_type": "code",
      "execution_count": null,
      "metadata": {
        "id": "97ovOCCG_17-"
      },
      "outputs": [],
      "source": [
        "hist_cols = ['datetime', 'open', 'high', 'low', 'close', 'volume']\n",
        "\n",
        "hist_df = pd.read_csv('/content/drive/MyDrive/algo/input/XAUUSD_M5.csv',names=hist_cols)"
      ]
    },
    {
      "cell_type": "code",
      "execution_count": null,
      "metadata": {
        "id": "Ppqu-ays_17-"
      },
      "outputs": [],
      "source": [
        "hist_df"
      ]
    },
    {
      "cell_type": "code",
      "execution_count": null,
      "metadata": {
        "id": "3qYYWClw_17-"
      },
      "outputs": [],
      "source": [
        "\n",
        "# Step 2: Prepare datetime\n",
        "hist_df['datetime'] = pd.to_datetime(hist_df['datetime'])\n",
        "\n",
        "hist_df = hist_df[hist_df['datetime']>=order_df['Open Time'].min()]\n",
        "hist_df = hist_df[hist_df['datetime']<order_df['Close Time'].max()]\n",
        "\n",
        "# Step 3: Plotting\n",
        "fig = go.Figure(data=[go.Candlestick(\n",
        "    x=hist_df['datetime'],\n",
        "    open=hist_df['open'],\n",
        "    high=hist_df['high'],\n",
        "    low=hist_df['low'],\n",
        "    close=hist_df['close'],\n",
        "    increasing_line_color='green',\n",
        "    decreasing_line_color='red'\n",
        ")])\n",
        "\n",
        "fig.update_layout(\n",
        "    title='Gold Spot Price (15min intervals)',\n",
        "    xaxis_title='Time',\n",
        "    yaxis_title='Price (USD)',\n",
        "    xaxis_rangeslider_visible=False,\n",
        "    template=template\n",
        ")\n",
        "\n",
        "fig.show()"
      ]
    },
    {
      "cell_type": "code",
      "execution_count": null,
      "metadata": {
        "id": "Dsw3tda-_17-"
      },
      "outputs": [],
      "source": [
        "ta_df = dropna(hist_df)\n",
        "ta_df['datetime'] = pd.to_datetime(ta_df['datetime'], errors='coerce')\n",
        "ta_df = ta_df.dropna(subset=['datetime'])\n",
        "\n",
        "# Add ta features filling NaN values\n",
        "ta_df = add_all_ta_features(\n",
        "    ta_df, open=\"open\", high=\"high\", low=\"low\", close=\"close\", volume=\"volume\", fillna=True)"
      ]
    },
    {
      "cell_type": "code",
      "execution_count": null,
      "metadata": {
        "id": "eq-4MG-n_17-"
      },
      "outputs": [],
      "source": [
        "for period in [10, 20, 50, 100, 200]:\n",
        "    ta_df[f'ema_{period}'] = ta.trend.EMAIndicator(close=ta_df['close'], window=period, fillna=True).ema_indicator()\n",
        "\n",
        "# Add RSI for common periods\n",
        "for period in [14, 21]:\n",
        "    ta_df[f'rsi_{period}'] = ta.momentum.RSIIndicator(close=ta_df['close'], window=period, fillna=True).rsi()"
      ]
    },
    {
      "cell_type": "code",
      "execution_count": null,
      "metadata": {
        "id": "Uhe86xHq_17-"
      },
      "outputs": [],
      "source": [
        "import plotly.graph_objs as go\n",
        "from plotly.subplots import make_subplots\n",
        "from ta.volatility import BollingerBands\n",
        "# Create subplots\n",
        "fig = make_subplots(\n",
        "    rows=2, cols=1, shared_xaxes=True,\n",
        "    vertical_spacing=0.1,\n",
        "    row_heights=[0.7, 0.3],\n",
        "    subplot_titles=(\"Price with EMAs (OHLC) and Trades\", \"RSI\")\n",
        ")\n",
        "\n",
        "# --- OHLC Chart ---\n",
        "fig.add_trace(go.Candlestick(\n",
        "    x=ta_df['datetime'],\n",
        "    open=ta_df['open'],\n",
        "    high=ta_df['high'],\n",
        "    low=ta_df['low'],\n",
        "    close=ta_df['close'],\n",
        "    # increasing_line_color='green',\n",
        "    # decreasing_line_color='red',\n",
        "\n",
        "), row=1, col=1)\n",
        "fig.update_layout(xaxis_rangeslider_visible=False)\n",
        "# --- EMA Lines ---\n",
        "for period in [50, 200]:\n",
        "    fig.add_trace(go.Scatter(\n",
        "        x=ta_df['datetime'],\n",
        "        y=ta_df[f'ema_{period}'],\n",
        "        mode='lines',\n",
        "        name=f'EMA {period}',\n",
        "        connectgaps=False,\n",
        "    ), row=1, col=1)\n",
        "\n",
        "# --- Custom Trade Markers: \"buy\" and \"sell\" ---\n",
        "for trade_type, symbol in [(\"buy\", \"arrow-up\"), (\"sell\", \"arrow-down\")]:\n",
        "    trade_subset = order_df[order_df[\"Type\"].str.lower() == trade_type]\n",
        "    fig.add_trace(go.Scatter(\n",
        "        x=trade_subset[\"Open Time\"],\n",
        "        y=trade_subset[\"Open Price\"],\n",
        "        mode=\"markers\",\n",
        "        name=f\"{trade_type.title()} Highlight\",\n",
        "        marker=dict(\n",
        "            symbol=symbol,\n",
        "            size=16,  # Slightly bigger than main\n",
        "            color=trade_subset[\"Close Time\"].apply(color_from_time),  # Color by Close Time\n",
        "            # opacity=0.3,\n",
        "            line=dict(width=0)  # No border\n",
        "        ),\n",
        "        showlegend=False,  # Hide from legend\n",
        "        hoverinfo='skip'   # No hover for background layer\n",
        "    ), row=1, col=1)\n",
        "    fig.add_trace(go.Scatter(\n",
        "        x=trade_subset[\"Open Time\"],\n",
        "                # x=trade_subset[\"Open Time (15m)\"],\n",
        "        y=trade_subset[\"Open Price\"],\n",
        "        mode=\"markers\",\n",
        "        name=f\"{trade_type.title()} Trade\",\n",
        "        connectgaps=False,\n",
        "        marker=dict(\n",
        "            symbol=symbol,\n",
        "            size=12,\n",
        "            color=trade_subset[\"Profit USD\"],  # Color by profit\n",
        "            colorscale=profit_color_continuous_scale,  # Optional custom scale\n",
        "            cmin=-300,  # Set these based on your profit range\n",
        "            cmax=300,\n",
        "            colorbar=dict(title=\"Profit USD\"),\n",
        "            line=dict(width=1, color='black')\n",
        "        ),\n",
        "        hovertemplate=(\n",
        "            \"Time: %{x}<br>\" +\n",
        "            \"Price: %{y}<br>\" +\n",
        "            \"Profit USD: %{customdata[0]}<br>\" +\n",
        "                        \"Close Time: %{customdata[2]}<br>\" +\n",
        "\n",
        "            \"Type: %{customdata[1]}\"\n",
        "        ),\n",
        "        customdata=trade_subset[[\"Profit USD\", \"Type\",\"Close Time\"]].values\n",
        "    ), row=1, col=1)\n",
        "#Open and Close line\n",
        "for trade_type in [\"buy\", \"sell\"]:\n",
        "    trade_subset = order_df[order_df[\"Type\"].str.lower() == trade_type]\n",
        "\n",
        "    for _, row in trade_subset.iterrows():\n",
        "        fig.add_trace(go.Scatter(\n",
        "            x=[row[\"Open Time\"], row[\"Close Time\"]],\n",
        "            y=[row[\"Open Price\"], row[\"Close Price\"]],\n",
        "            mode=\"lines\",\n",
        "            line=dict(\n",
        "                color=\"gray\" if trade_type == \"buy\" else \"darkred\",\n",
        "                width=1,\n",
        "                dash=\"dot\"\n",
        "            ),\n",
        "            showlegend=False,\n",
        "            hoverinfo=\"skip\"\n",
        "        ), row=1, col=1)\n",
        "\n",
        "# --- RSI Line ---\n",
        "fig.add_trace(go.Scatter(\n",
        "        x=ta_df['datetime'],\n",
        "    y=ta_df['rsi_14'],\n",
        "    mode='lines',\n",
        "    name='RSI 14',\n",
        "    line=dict(color='orange'),\n",
        "    connectgaps=False,\n",
        "), row=2, col=1)\n",
        "\n",
        "# # RSI Overbought/Oversold Lines\n",
        "start_date = ta_df['datetime'].iloc[0]\n",
        "end_date = ta_df['datetime'].iloc[-1]\n",
        "\n",
        "fig.add_shape(type=\"line\", x0=start_date, x1=end_date, y0=70, y1=70,\n",
        "              line=dict(dash='dash', color='red'), row=2, col=1)\n",
        "fig.add_shape(type=\"line\", x0=start_date, x1=end_date, y0=30, y1=30,\n",
        "              line=dict(dash='dash', color='green'), row=2, col=1)\n",
        "overbought = ta_df[ta_df['rsi_14'] > 70]\n",
        "oversold = ta_df[ta_df['rsi_14'] < 30]\n",
        "\n",
        "\n",
        "bb_indicator = BollingerBands(close=ta_df[\"close\"], window=20, window_dev=2)\n",
        "\n",
        "# Add bands to the DataFrame\n",
        "ta_df[\"bb_upper\"] = bb_indicator.bollinger_hband()\n",
        "ta_df[\"bb_middle\"] = bb_indicator.bollinger_mavg()\n",
        "ta_df[\"bb_lower\"] = bb_indicator.bollinger_lband()\n",
        "# --- Bollinger Bands ---\n",
        "fig.add_trace(go.Scatter(\n",
        "    x=ta_df['datetime'],\n",
        "    y=ta_df['bb_upper'],\n",
        "    mode='lines',\n",
        "    name='BB Upper',\n",
        "    line=dict(color='lightblue', width=1),\n",
        "    opacity=0.6,\n",
        "    connectgaps=False\n",
        "), row=1, col=1)\n",
        "\n",
        "fig.add_trace(go.Scatter(\n",
        "    x=ta_df['datetime'],\n",
        "    y=ta_df['bb_lower'],\n",
        "    mode='lines',\n",
        "    name='BB Lower',\n",
        "    line=dict(color='lightblue', width=1),\n",
        "    opacity=0.6,\n",
        "    fill='tonexty',  # Fill between upper and lower\n",
        "    connectgaps=False\n",
        "), row=1, col=1)\n",
        "\n",
        "fig.add_trace(go.Scatter(\n",
        "    x=ta_df['datetime'],\n",
        "    y=ta_df['bb_middle'],\n",
        "    mode='lines',\n",
        "    name='BB Middle',\n",
        "    line=dict(color='blue', width=1),\n",
        "    connectgaps=False\n",
        "), row=1, col=1)\n",
        "# --- Bollinger Bands ---\n",
        "\n",
        "# Shade overbought regions on main chart\n",
        "for dt in overbought['datetime']:\n",
        "    fig.add_vrect(\n",
        "        x0=dt, x1=dt,\n",
        "        fillcolor=\"red\", opacity=0.2,\n",
        "        layer=\"below\", line_width=0,\n",
        "        row=1, col=1\n",
        "    )\n",
        "\n",
        "# Shade oversold regions on main chart\n",
        "for dt in oversold['datetime']:\n",
        "    fig.add_vrect(\n",
        "        x0=dt, x1=dt,\n",
        "        fillcolor=\"green\", opacity=0.2,\n",
        "        layer=\"below\", line_width=0,\n",
        "        row=1, col=1\n",
        "    )\n",
        "# Layout Settings\n",
        "fig.update_layout(\n",
        "    # title='Stock OHLC with EMA, Trade Entries (Buy/Sell), and RSI',\n",
        "    height=800,\n",
        "    legend=dict(x=0, y=1.1, orientation='h'),\n",
        "    xaxis2_title='Date',\n",
        "    yaxis1_title='Price',\n",
        "    yaxis2_title='RSI',\n",
        "    template=template\n",
        ")\n",
        "\n",
        "\n",
        "\n",
        "# from datetime import datetime\n",
        "\n",
        "# # 1. Get all unique Close Times (as strings for dropdown labels)\n",
        "# unique_close_times = sorted(df_melted[\"Close Time\"].dt.strftime(\"%Y-%m-%d %H:%M:%S\").unique())\n",
        "# all_trace_count = len(fig.data)\n",
        "\n",
        "# # 2. Create dropdown buttons\n",
        "# buttons = []\n",
        "\n",
        "# # \"All\" button to show everything\n",
        "# buttons.append(dict(\n",
        "#     label=\"All\",\n",
        "#     method=\"update\",\n",
        "#     args=[{\"visible\": [True] * all_trace_count},\n",
        "#           {\"title\": \"All Trades\"}]\n",
        "# ))\n",
        "\n",
        "# # Add one button per Close Time\n",
        "# for close_time_str in unique_close_times:\n",
        "#     visible = []\n",
        "#     for trace in fig.data:\n",
        "#         # Check if this trace's x matches only that Close Time\n",
        "#         trace_x = list(trace.x)\n",
        "#         if len(trace_x) == 0 or not isinstance(trace_x[0], datetime):\n",
        "#             visible.append(True)  # Show all non-trade traces\n",
        "#         else:\n",
        "#             # Filter only trades for this Close Time\n",
        "#             match = any(\n",
        "#                 pd.to_datetime(close_time_str) == pd.to_datetime(row[\"Close Time\"])\n",
        "#                 for i, row in df_melted.iterrows()\n",
        "#                 if row[\"Time\"] in trace_x\n",
        "#             )\n",
        "#             visible.append(match)\n",
        "\n",
        "#     buttons.append(dict(\n",
        "#         label=close_time_str,\n",
        "#         method=\"update\",\n",
        "#         args=[{\"visible\": visible},\n",
        "#               {\"title\": f\"Trades for Close Time: {close_time_str}\"}]\n",
        "#     ))\n",
        "\n",
        "# # 3. Add dropdown to layout\n",
        "# fig.update_layout(\n",
        "#     updatemenus=[\n",
        "#         dict(\n",
        "#             active=0,\n",
        "#             buttons=buttons,\n",
        "#             x=1.02,\n",
        "#             y=1.1,\n",
        "#             xanchor=\"left\",\n",
        "#             yanchor=\"top\",\n",
        "#             direction=\"down\",\n",
        "#             showactive=True\n",
        "#         )\n",
        "#     ]\n",
        "# )\n",
        "\n",
        "\n",
        "fig.show()\n"
      ]
    },
    {
      "cell_type": "code",
      "execution_count": null,
      "metadata": {
        "id": "qeTOkJYK_17-"
      },
      "outputs": [],
      "source": [
        "ta_df[ta_df['datetime'].isna()]"
      ]
    },
    {
      "cell_type": "code",
      "execution_count": null,
      "metadata": {
        "id": "KyKPbBdc_17-"
      },
      "outputs": [],
      "source": [
        "df_melted[df_melted['Time'].isna()]"
      ]
    },
    {
      "cell_type": "code",
      "execution_count": null,
      "metadata": {
        "id": "5O2f4jF2_17-"
      },
      "outputs": [],
      "source": []
    }
  ],
  "metadata": {
    "kernelspec": {
      "display_name": "3.8.10",
      "language": "python",
      "name": "python3"
    },
    "language_info": {
      "codemirror_mode": {
        "name": "ipython",
        "version": 3
      },
      "file_extension": ".py",
      "mimetype": "text/x-python",
      "name": "python",
      "nbconvert_exporter": "python",
      "pygments_lexer": "ipython3",
      "version": "3.8.10"
    },
    "orig_nbformat": 4,
    "colab": {
      "provenance": []
    }
  },
  "nbformat": 4,
  "nbformat_minor": 0
}